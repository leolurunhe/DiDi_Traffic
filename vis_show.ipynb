{
 "cells": [
  {
   "cell_type": "code",
   "execution_count": 31,
   "metadata": {},
   "outputs": [],
   "source": [
    "from pyecharts import options as opts\n",
    "from pyecharts.charts import BMap\n",
    "from pyecharts.globals import BMapType, ChartType, GeoType\n",
    "from gen_pickle import load_street_pickle\n",
    "from speed import read_speed, read_pred_speed\n",
    "from numpy import mean, isnan\n",
    "from ipywidgets import interact, fixed, interactive, IntSlider\n",
    "import ipywidgets as widgets\n",
    "import warnings\n",
    "from IPython.display import display\n",
    "\n",
    "\n",
    "def prepare_coord(info):\n",
    "    coord = {}\n",
    "    for street in info:\n",
    "        long = mean([x['long'] for x in info[street]])\n",
    "        lat = mean([x['lat'] for x in info[street]])\n",
    "        coord[street] = [long, lat]\n",
    "    return coord\n",
    "\n",
    "\n",
    "def get_data_pair(speed, n):\n",
    "    data = []\n",
    "    for street in speed:\n",
    "        spd = speed[street][n]\n",
    "        if isnan(spd):\n",
    "            spd = 0\n",
    "        data.append(\n",
    "            [street, spd]\n",
    "        )\n",
    "    return data\n",
    "\n",
    "\n",
    "def show_render(speed, pred_speed, coord, n, show_actual=True, show_predict=True):\n",
    "    warnings.filterwarnings('ignore')\n",
    "    m = BMap(init_opts=opts.InitOpts(width=\"800px\", height=\"400px\"))\n",
    "    m.add_schema(\n",
    "        baidu_ak=\"Uf1rIjuIVVXxDwEy0iEU0tApwdoqGeGn\",\n",
    "        center=[108.953457, 34.26949],\n",
    "        zoom=15,\n",
    "        is_roam=True,\n",
    "        map_style={\n",
    "            \"styleJson\": [\n",
    "                {\"featureType\": \"water\", \"elementType\": \"all\", \"stylers\": {\"color\": \"#d1d1d1\"}},\n",
    "                {\"featureType\": \"land\", \"elementType\": \"all\", \"stylers\": {\"color\": \"#f3f3f3\"}},\n",
    "                {\"featureType\": \"railway\", \"elementType\": \"all\", \"stylers\": {\"visibility\": \"off\"}},\n",
    "                {\"featureType\": \"highway\", \"elementType\": \"all\", \"stylers\": {\"color\": \"#fdfdfd\"}},\n",
    "                {\"featureType\": \"highway\", \"elementType\": \"labels\", \"stylers\": {\"visibility\": \"off\"}},\n",
    "                {\"featureType\": \"arterial\", \"elementType\": \"geometry\", \"stylers\": {\"color\": \"#fefefe\"}},\n",
    "                {\"featureType\": \"arterial\", \"elementType\": \"geometry.fill\", \"stylers\": {\"color\": \"#fefefe\"}},\n",
    "                {\"featureType\": \"poi\", \"elementType\": \"all\", \"stylers\": {\"visibility\": \"on\"}},\n",
    "                {\"featureType\": \"green\", \"elementType\": \"all\", \"stylers\": {\"visibility\": \"off\"}},\n",
    "                {\"featureType\": \"subway\", \"elementType\": \"all\", \"stylers\": {\"visibility\": \"off\"}},\n",
    "                {\"featureType\": \"manmade\", \"elementType\": \"all\", \"stylers\": {\"color\": \"#d1d1d1\"}},\n",
    "                {\"featureType\": \"local\", \"elementType\": \"all\", \"stylers\": {\"color\": \"#d1d1d1\"}},\n",
    "                {\"featureType\": \"arterial\", \"elementType\": \"labels\", \"stylers\": {\"visibility\": \"on\"}},\n",
    "                {\"featureType\": \"boundary\", \"elementType\": \"all\", \"stylers\": {\"color\": \"#fefefe\"}},\n",
    "                {\"featureType\": \"building\", \"elementType\": \"all\", \"stylers\": {\"color\": \"#d1d1d1\"}},\n",
    "                {\"featureType\": \"label\", \"elementType\": \"labels.text.fill\", \"stylers\": {\"color\": \"#999999\"}}\n",
    "            ]\n",
    "        }\n",
    "    )\n",
    "    for s, (long, lat) in coord.items():\n",
    "        m.add_coordinate(s, long, lat)\n",
    "    if show_actual:\n",
    "        m.add(\n",
    "            series_name=\"actual\",\n",
    "            type_=\"heatmap\",\n",
    "            data_pair=get_data_pair(speed, 0),\n",
    "        )\n",
    "    if show_predict:\n",
    "        m.add(\n",
    "            series_name=\"predict\",\n",
    "            type_=\"heatmap\",\n",
    "            data_pair=get_data_pair(pred_speed, 0),\n",
    "        )\n",
    "    m.add_control_panel(\n",
    "        copyright_control_opts=opts.BMapCopyrightTypeOpts(position=BMapType.ANCHOR_BOTTOM_RIGHT),\n",
    "        maptype_control_opts=opts.BMapTypeControlOpts(type_=BMapType.MAPTYPE_CONTROL_DROPDOWN),\n",
    "        scale_control_opts=opts.BMapScaleControlOpts(),\n",
    "        overview_map_opts=opts.BMapOverviewMapControlOpts(is_open=True),\n",
    "        navigation_control_opts=opts.BMapNavigationControlOpts(),\n",
    "        geo_location_control_opts=opts.BMapGeoLocationControlOpts(),\n",
    "    ).set_global_opts(\n",
    "        visualmap_opts=opts.VisualMapOpts(\n",
    "            min_=0,\n",
    "            max_=60,\n",
    "            range_color=['purple', 'blue', 'green', 'yellow', 'orange', 'red'],\n",
    "            pos_bottom='30%',\n",
    "        ),\n",
    "        title_opts=opts.TitleOpts(title=\"Traffic Status of Xi'An 1st Ring\")\n",
    "    )\n",
    "    return m.render_notebook()\n",
    "    \n",
    "    \n",
    "def prepare():\n",
    "    speed, n_slice = read_speed()\n",
    "    # Match T-GCN expand 3 times... (don't know why)\n",
    "    idx_map = list(range(0, 114 - 12 - 3 - 1)) + list(range(114, 143 - 12 - 3))\n",
    "    pred_speed, n_slice1 = read_pred_speed()\n",
    "    assert len(idx_map) == n_slice1\n",
    "    coord = prepare_coord(load_street_pickle())\n",
    "    \n",
    "    return speed, pred_speed, idx_map, coord\n",
    "\n",
    "\n",
    "speed, pred_speed, idx_map, coord = prepare()"
   ]
  },
  {
   "cell_type": "code",
   "execution_count": 32,
   "metadata": {},
   "outputs": [
    {
     "data": {
      "application/vnd.jupyter.widget-view+json": {
       "model_id": "9c8cf86bb8df472eb406693cba3e318d"
      }
     },
     "metadata": {},
     "output_type": "display_data"
    },
    {
     "data": {
      "text/plain": [
       "<function __main__.show_render>"
      ]
     },
     "execution_count": 32,
     "metadata": {},
     "output_type": "execute_result"
    }
   ],
   "source": [
    "interact(show_render, speed=fixed(speed), pred_speed=fixed(pred_speed), coord=fixed(coord), n=IntSlider(min=0, max=len(idx_map), step=1, value=0), show_actual=True, show_predict=True)"
   ]
  },
  {
   "cell_type": "code",
   "execution_count": 15,
   "metadata": {},
   "outputs": [
    {
     "name": "stdout",
     "output_type": "stream",
     "text": [
      "<function show_render at 0x0000022BB8834510>\n"
     ]
    }
   ],
   "source": [
    "print(w)"
   ]
  },
  {
   "cell_type": "code",
   "execution_count": null,
   "metadata": {
    "collapsed": true
   },
   "outputs": [],
   "source": []
  }
 ],
 "metadata": {
  "kernelspec": {
   "display_name": "Python 3",
   "language": "python",
   "name": "python3"
  },
  "language_info": {
   "codemirror_mode": {
    "name": "ipython",
    "version": 3
   },
   "file_extension": ".py",
   "mimetype": "text/x-python",
   "name": "python",
   "nbconvert_exporter": "python",
   "pygments_lexer": "ipython3",
   "version": "3.6.1"
  }
 },
 "nbformat": 4,
 "nbformat_minor": 2
}
