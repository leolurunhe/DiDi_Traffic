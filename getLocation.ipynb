{
 "cells": [
  {
   "cell_type": "markdown",
   "metadata": {},
   "source": [
    "Get baidu map infomation on long/lat"
   ]
  },
  {
   "cell_type": "code",
   "execution_count": 15,
   "metadata": {
    "collapsed": true
   },
   "outputs": [],
   "source": [
    "import pandas as pd\n",
    "import string\n",
    "start = 0\n",
    "limit = 5000\n",
    "data = pd.read_csv(\"gps_20161101\", names=[\"driverID\",\"orderID\", \"time\", \"lat\", \"long\"], skiprows=start, nrows=limit)\n",
    "with open(\"./baidu_ak\", \"r\") as f:\n",
    "    ak = f.readline().strip()"
   ]
  },
  {
   "cell_type": "code",
   "execution_count": 16,
   "metadata": {
    "scrolled": false
   },
   "outputs": [],
   "source": [
    "import requests\n",
    "import json\n",
    "for i in range(0, data.shape[0]):\n",
    "    location = str(data[\"long\"][i]) + ',' + str(data[\"lat\"][i])\n",
    "    url = \"http://api.map.baidu.com/geocoder/v2/?location=\" + location + \"&output=json&language=en&ak=\" + ak \n",
    "    resp = requests.get(url).json()\n",
    "    if resp['status'] != 0:\n",
    "        raise Exception(str(resp))\n",
    "    street = str(resp['result']['addressComponent']['street'])\n",
    "    with open(\"cache_{}_{}.csv\".format(start, start+limit), \"a+\", encoding=\"utf-8\") as f:\n",
    "        ustr = str(data[\"driverID\"][i]) + \\\n",
    "            \" \" + str(data[\"orderID\"][i]) + \\\n",
    "            \" \"+ str(data[\"time\"][i]) + \\\n",
    "            \" \" + str(data[\"long\"][i]) + \\\n",
    "            \" \" + str(data[\"lat\"][i]) + \\\n",
    "            \" \" + street + \"\\n\"\n",
    "        f.write(ustr)"
   ]
  },
  {
   "cell_type": "code",
   "execution_count": 17,
   "metadata": {},
   "outputs": [
    {
     "name": "stdout",
     "output_type": "stream",
     "text": [
      "(5000, 5)\n"
     ]
    }
   ],
   "source": [
    "print(data.shape)"
   ]
  },
  {
   "cell_type": "code",
   "execution_count": null,
   "metadata": {
    "collapsed": true
   },
   "outputs": [],
   "source": []
  }
 ],
 "metadata": {
  "kernelspec": {
   "display_name": "Python 3",
   "language": "python",
   "name": "python3"
  },
  "language_info": {
   "codemirror_mode": {
    "name": "ipython",
    "version": 3
   },
   "file_extension": ".py",
   "mimetype": "text/x-python",
   "name": "python",
   "nbconvert_exporter": "python",
   "pygments_lexer": "ipython3",
   "version": "3.6.1"
  }
 },
 "nbformat": 4,
 "nbformat_minor": 2
}
